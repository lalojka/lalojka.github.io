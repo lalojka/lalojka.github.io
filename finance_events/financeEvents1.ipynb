{
  "nbformat": 4,
  "nbformat_minor": 0,
  "metadata": {
    "colab": {
      "provenance": []
    },
    "kernelspec": {
      "name": "python3",
      "display_name": "Python 3"
    },
    "language_info": {
      "name": "python"
    }
  },
  "cells": [
    {
      "cell_type": "code",
      "source": [
        "from google.colab import drive\n",
        "drive.mount('/content/drive')"
      ],
      "metadata": {
        "colab": {
          "base_uri": "https://localhost:8080/"
        },
        "id": "Dt-rCxp0gDZx",
        "outputId": "e0529863-13eb-4780-bc73-5c117e7e3030"
      },
      "execution_count": null,
      "outputs": [
        {
          "output_type": "stream",
          "name": "stdout",
          "text": [
            "Drive already mounted at /content/drive; to attempt to forcibly remount, call drive.mount(\"/content/drive\", force_remount=True).\n"
          ]
        }
      ]
    },
    {
      "cell_type": "markdown",
      "source": [
        "Aca abajo está el código para descargar en formato .json una lista de métricas de WDI Bank Data"
      ],
      "metadata": {
        "id": "Gqt8RLLgbw3m"
      }
    },
    {
      "cell_type": "code",
      "source": [
        "import requests\n",
        "import json\n",
        "\n",
        "metrics = ['NY.GDP.PCAP.PP.CD', 'SL.EMP.WORK.ZS']  # Add more metrics as needed\n",
        "\n",
        "def fetch_data(metric):\n",
        "    # URL of the API\n",
        "    url = f\"https://api.worldbank.org/v2/country/all/indicator/{metric}?format=jsonstat\"\n",
        "\n",
        "    # Make the HTTP request to the API and get the response in JSON format\n",
        "    response = requests.get(url)\n",
        "    json_data = response.json()\n",
        "\n",
        "    # Assuming you already have the JSON response stored in a variable named json_data\n",
        "    data = json_data[\"WDI\"][\"value\"]\n",
        "    seriesLabel = json_data[\"WDI\"][\"dimension\"][\"series\"][\"category\"][\"label\"][metric]\n",
        "    source = json_data[\"WDI\"][\"source\"]\n",
        "    updated = json_data[\"WDI\"][\"updated\"]\n",
        "    countryLabels = json_data[\"WDI\"][\"dimension\"][\"country\"][\"category\"][\"label\"]\n",
        "    years = list(json_data[\"WDI\"][\"dimension\"][\"year\"][\"category\"][\"label\"].values())\n",
        "\n",
        "    structuredData = []\n",
        "\n",
        "    for i in range(len(data)):\n",
        "        countryIndex = i // len(years)\n",
        "        yearIndex = i % len(years)\n",
        "        country = list(countryLabels.values())[countryIndex]\n",
        "        year = years[yearIndex]\n",
        "        value = data[i]\n",
        "\n",
        "        dataPoint = {\n",
        "            \"Source\": source,\n",
        "            \"Updated\": updated,\n",
        "            \"Series\": seriesLabel,\n",
        "            \"Country\": country,\n",
        "            \"Year\": year,\n",
        "            \"Value\": value,\n",
        "        }\n",
        "\n",
        "        structuredData.append(dataPoint)\n",
        "\n",
        "    # Now, structuredData contains the desired data structure with multiple countries\n",
        "    return {\"structuredData\": structuredData}\n",
        "\n",
        "# Loop through the list of metrics and save data in separate JSON files\n",
        "for metric in metrics:\n",
        "    data = fetch_data(metric)\n",
        "    json_file_path = f\"{metric}.json\"  # Replace with your desired file path\n",
        "    with open(json_file_path, 'w') as json_file:\n",
        "        json.dump(data, json_file, indent=4)\n",
        "    print(f\"Data for {metric} saved to {json_file_path}\")\n"
      ],
      "metadata": {
        "colab": {
          "base_uri": "https://localhost:8080/"
        },
        "id": "v-Kug0uFt9aa",
        "outputId": "9407ec13-fe47-40e5-be35-09c3f2cefe05"
      },
      "execution_count": 4,
      "outputs": [
        {
          "output_type": "stream",
          "name": "stdout",
          "text": [
            "Data for NY.GDP.PCAP.PP.CD saved to NY.GDP.PCAP.PP.CD.json\n",
            "Data for SL.EMP.WORK.ZS saved to SL.EMP.WORK.ZS.json\n"
          ]
        }
      ]
    },
    {
      "cell_type": "markdown",
      "source": [
        "Aca abajo está el código para descargar en formato .csv una tabla con dos métricas de WDI Bank data"
      ],
      "metadata": {
        "id": "bITR-twBcBXE"
      }
    },
    {
      "cell_type": "code",
      "source": [
        "import requests\n",
        "import json\n",
        "import pandas as pd\n",
        "\n",
        "metrics = ['NY.GDP.PCAP.PP.CD', 'SL.EMP.WORK.ZS']  # Add more metrics as needed\n",
        "\n",
        "def fetch_data(metric):\n",
        "    # URL of the API\n",
        "    url = f\"https://api.worldbank.org/v2/country/all/indicator/{metric}?format=jsonstat\"\n",
        "\n",
        "    # Make the HTTP request to the API and get the response in JSON format\n",
        "    response = requests.get(url)\n",
        "    json_data = response.json()\n",
        "\n",
        "    # Assuming you already have the JSON response stored in a variable named json_data\n",
        "    data = json_data[\"WDI\"][\"value\"]\n",
        "    seriesLabel = json_data[\"WDI\"][\"dimension\"][\"series\"][\"category\"][\"label\"][metric]\n",
        "    source = json_data[\"WDI\"][\"source\"]\n",
        "    updated = json_data[\"WDI\"][\"updated\"]\n",
        "    countryLabels = json_data[\"WDI\"][\"dimension\"][\"country\"][\"category\"][\"label\"]\n",
        "    years = list(json_data[\"WDI\"][\"dimension\"][\"year\"][\"category\"][\"label\"].values())\n",
        "\n",
        "    structuredData = []\n",
        "\n",
        "    for i in range(len(data)):\n",
        "        countryIndex = i // len(years)\n",
        "        yearIndex = i % len(years)\n",
        "        country = list(countryLabels.values())[countryIndex]\n",
        "        year = years[yearIndex]\n",
        "        value = data[i]\n",
        "\n",
        "        dataPoint = {\n",
        "            \"Source\": source,\n",
        "            \"Updated\": updated,\n",
        "            \"Series\": seriesLabel,\n",
        "            \"Country\": country,\n",
        "            \"Year\": year,\n",
        "            f\"Value_{metric}\": value,\n",
        "        }\n",
        "\n",
        "        structuredData.append(dataPoint)\n",
        "\n",
        "    # Now, structuredData contains the desired data structure for one metric\n",
        "    return structuredData\n",
        "\n",
        "# Initialize an empty list to store data for all metrics\n",
        "combined_data = []\n",
        "\n",
        "# Loop through the list of metrics and fetch data\n",
        "for metric in metrics:\n",
        "    metric_data = fetch_data(metric)\n",
        "    combined_data.extend(metric_data)\n",
        "\n",
        "# Create a DataFrame from the combined data\n",
        "df_combined = pd.DataFrame(combined_data)\n",
        "\n",
        "# Save the combined data to a CSV file or do further processing as needed\n",
        "df_combined.to_csv('financeEvents1_chart1.csv', index=False)\n"
      ],
      "metadata": {
        "id": "mb0fJwjuZL6K"
      },
      "execution_count": 8,
      "outputs": []
    }
  ]
}